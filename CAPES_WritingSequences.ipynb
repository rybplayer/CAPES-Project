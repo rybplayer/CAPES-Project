{
 "cells": [
  {
   "cell_type": "markdown",
   "id": "8d1e506e",
   "metadata": {},
   "source": [
    "# Project Capes: Writing Sequences"
   ]
  },
  {
   "cell_type": "code",
   "execution_count": 1,
   "id": "f261619e",
   "metadata": {},
   "outputs": [],
   "source": [
    "import pandas as pd\n",
    "import numpy as np\n",
    "import matplotlib.pyplot as plt\n",
    "plt.style.use('seaborn-v0_8-colorblind')"
   ]
  },
  {
   "cell_type": "code",
   "execution_count": 11,
   "id": "d65032ef",
   "metadata": {},
   "outputs": [
    {
     "ename": "TypeError",
     "evalue": "list indices must be integers or slices, not list",
     "output_type": "error",
     "traceback": [
      "\u001b[0;31m---------------------------------------------------------------------------\u001b[0m",
      "\u001b[0;31mTypeError\u001b[0m                                 Traceback (most recent call last)",
      "Cell \u001b[0;32mIn [11], line 5\u001b[0m\n\u001b[1;32m      3\u001b[0m \u001b[38;5;28;01mwith\u001b[39;00m \u001b[38;5;28mopen\u001b[39m(\u001b[38;5;124m'\u001b[39m\u001b[38;5;124mprereqs.json\u001b[39m\u001b[38;5;124m'\u001b[39m) \u001b[38;5;28;01mas\u001b[39;00m json_data:\n\u001b[1;32m      4\u001b[0m     data \u001b[38;5;241m=\u001b[39m json\u001b[38;5;241m.\u001b[39mload(json_data)\n\u001b[0;32m----> 5\u001b[0m     df \u001b[38;5;241m=\u001b[39m pd\u001b[38;5;241m.\u001b[39mDataFrame(\u001b[43mdata\u001b[49m\u001b[43m[\u001b[49m\u001b[43m[\u001b[49m\u001b[38;5;124;43m'\u001b[39;49m\u001b[38;5;124;43mcourse\u001b[39;49m\u001b[38;5;124;43m'\u001b[39;49m\u001b[43m]\u001b[49m\u001b[43m]\u001b[49m)\n\u001b[1;32m      6\u001b[0m     df[\u001b[38;5;124m'\u001b[39m\u001b[38;5;124mprereqs\u001b[39m\u001b[38;5;124m'\u001b[39m]\n",
      "\u001b[0;31mTypeError\u001b[0m: list indices must be integers or slices, not list"
     ]
    }
   ],
   "source": []
  },
  {
   "cell_type": "code",
   "execution_count": 2,
   "id": "a7c119a7",
   "metadata": {},
   "outputs": [
    {
     "data": {
      "text/html": [
       "<div>\n",
       "<style scoped>\n",
       "    .dataframe tbody tr th:only-of-type {\n",
       "        vertical-align: middle;\n",
       "    }\n",
       "\n",
       "    .dataframe tbody tr th {\n",
       "        vertical-align: top;\n",
       "    }\n",
       "\n",
       "    .dataframe thead th {\n",
       "        text-align: right;\n",
       "    }\n",
       "</style>\n",
       "<table border=\"1\" class=\"dataframe\">\n",
       "  <thead>\n",
       "    <tr style=\"text-align: right;\">\n",
       "      <th></th>\n",
       "      <th>Instructor</th>\n",
       "      <th>Course Name</th>\n",
       "      <th>Course Desc</th>\n",
       "      <th>Course Type</th>\n",
       "      <th>Term Type</th>\n",
       "      <th>Term Year</th>\n",
       "      <th>Enroll</th>\n",
       "      <th>Evals Made</th>\n",
       "      <th>Rcmnd Class</th>\n",
       "      <th>Rcmnd Instructor</th>\n",
       "      <th>Study Hrs/wk</th>\n",
       "      <th>Avg Letter Expected</th>\n",
       "      <th>Avg GPA Expected</th>\n",
       "      <th>Avg Letter Received</th>\n",
       "      <th>Avg GPA Received</th>\n",
       "    </tr>\n",
       "  </thead>\n",
       "  <tbody>\n",
       "    <tr>\n",
       "      <th>0</th>\n",
       "      <td>Kalleres, Dayna</td>\n",
       "      <td>RELI 1</td>\n",
       "      <td>Introduction to Religion (A)</td>\n",
       "      <td>Lower Div</td>\n",
       "      <td>FA</td>\n",
       "      <td>22</td>\n",
       "      <td>37</td>\n",
       "      <td>11</td>\n",
       "      <td>0.909</td>\n",
       "      <td>1.000</td>\n",
       "      <td>2.50</td>\n",
       "      <td>B</td>\n",
       "      <td>3.20</td>\n",
       "      <td>A</td>\n",
       "      <td>4.00</td>\n",
       "    </tr>\n",
       "    <tr>\n",
       "      <th>1</th>\n",
       "      <td>Rahimi, Babak</td>\n",
       "      <td>RELI 149</td>\n",
       "      <td>Islam in America (A)</td>\n",
       "      <td>Lower Div</td>\n",
       "      <td>S1</td>\n",
       "      <td>22</td>\n",
       "      <td>40</td>\n",
       "      <td>5</td>\n",
       "      <td>1.000</td>\n",
       "      <td>1.000</td>\n",
       "      <td>3.70</td>\n",
       "      <td>A-</td>\n",
       "      <td>3.80</td>\n",
       "      <td>A-</td>\n",
       "      <td>3.98</td>\n",
       "    </tr>\n",
       "    <tr>\n",
       "      <th>2</th>\n",
       "      <td>Rahimi, Babak</td>\n",
       "      <td>RELI 101</td>\n",
       "      <td>Tools&amp;Methods/Studyof Religion (A)</td>\n",
       "      <td>Lower Div</td>\n",
       "      <td>WI</td>\n",
       "      <td>22</td>\n",
       "      <td>39</td>\n",
       "      <td>10</td>\n",
       "      <td>0.900</td>\n",
       "      <td>0.900</td>\n",
       "      <td>3.61</td>\n",
       "      <td>B+</td>\n",
       "      <td>3.67</td>\n",
       "      <td>A-</td>\n",
       "      <td>3.73</td>\n",
       "    </tr>\n",
       "    <tr>\n",
       "      <th>3</th>\n",
       "      <td>Rahimi, Babak</td>\n",
       "      <td>RELI 188</td>\n",
       "      <td>Special Topics in Religion (A)</td>\n",
       "      <td>Lower Div</td>\n",
       "      <td>WI</td>\n",
       "      <td>22</td>\n",
       "      <td>34</td>\n",
       "      <td>11</td>\n",
       "      <td>0.800</td>\n",
       "      <td>0.900</td>\n",
       "      <td>3.90</td>\n",
       "      <td>A-</td>\n",
       "      <td>3.90</td>\n",
       "      <td>A-</td>\n",
       "      <td>3.81</td>\n",
       "    </tr>\n",
       "    <tr>\n",
       "      <th>4</th>\n",
       "      <td>Kalleres, Dayna</td>\n",
       "      <td>RELI 1</td>\n",
       "      <td>Introduction to Religion (A)</td>\n",
       "      <td>Lower Div</td>\n",
       "      <td>FA</td>\n",
       "      <td>21</td>\n",
       "      <td>37</td>\n",
       "      <td>18</td>\n",
       "      <td>0.813</td>\n",
       "      <td>0.750</td>\n",
       "      <td>2.50</td>\n",
       "      <td>A-</td>\n",
       "      <td>3.85</td>\n",
       "      <td>A-</td>\n",
       "      <td>3.74</td>\n",
       "    </tr>\n",
       "    <tr>\n",
       "      <th>...</th>\n",
       "      <td>...</td>\n",
       "      <td>...</td>\n",
       "      <td>...</td>\n",
       "      <td>...</td>\n",
       "      <td>...</td>\n",
       "      <td>...</td>\n",
       "      <td>...</td>\n",
       "      <td>...</td>\n",
       "      <td>...</td>\n",
       "      <td>...</td>\n",
       "      <td>...</td>\n",
       "      <td>...</td>\n",
       "      <td>...</td>\n",
       "      <td>...</td>\n",
       "      <td>...</td>\n",
       "    </tr>\n",
       "    <tr>\n",
       "      <th>59363</th>\n",
       "      <td>Gladstein, Jill M</td>\n",
       "      <td>SYN 1</td>\n",
       "      <td>Perspectives/Changing Planet (0)</td>\n",
       "      <td>Lower Div</td>\n",
       "      <td>WI</td>\n",
       "      <td>22</td>\n",
       "      <td>404</td>\n",
       "      <td>243</td>\n",
       "      <td>0.909</td>\n",
       "      <td>0.934</td>\n",
       "      <td>3.95</td>\n",
       "      <td>A-</td>\n",
       "      <td>3.94</td>\n",
       "      <td>A-</td>\n",
       "      <td>3.90</td>\n",
       "    </tr>\n",
       "    <tr>\n",
       "      <th>59364</th>\n",
       "      <td>Gladstein, Jill M</td>\n",
       "      <td>SYN 2</td>\n",
       "      <td>Explorations/Changing Planet (0)</td>\n",
       "      <td>Lower Div</td>\n",
       "      <td>WI</td>\n",
       "      <td>22</td>\n",
       "      <td>191</td>\n",
       "      <td>93</td>\n",
       "      <td>0.770</td>\n",
       "      <td>0.885</td>\n",
       "      <td>4.18</td>\n",
       "      <td>A-</td>\n",
       "      <td>3.79</td>\n",
       "      <td>A-</td>\n",
       "      <td>3.89</td>\n",
       "    </tr>\n",
       "    <tr>\n",
       "      <th>59365</th>\n",
       "      <td>Gladstein, Jill M</td>\n",
       "      <td>SYN 2</td>\n",
       "      <td>Explorations/Changing Planet (0)</td>\n",
       "      <td>Lower Div</td>\n",
       "      <td>FA</td>\n",
       "      <td>21</td>\n",
       "      <td>319</td>\n",
       "      <td>135</td>\n",
       "      <td>0.680</td>\n",
       "      <td>0.744</td>\n",
       "      <td>3.89</td>\n",
       "      <td>A-</td>\n",
       "      <td>3.93</td>\n",
       "      <td>A-</td>\n",
       "      <td>3.88</td>\n",
       "    </tr>\n",
       "    <tr>\n",
       "      <th>59366</th>\n",
       "      <td>Gladstein, Jill M</td>\n",
       "      <td>SYN 1</td>\n",
       "      <td>Perspectives/Changing Planet (0)</td>\n",
       "      <td>Lower Div</td>\n",
       "      <td>SP</td>\n",
       "      <td>21</td>\n",
       "      <td>235</td>\n",
       "      <td>107</td>\n",
       "      <td>0.906</td>\n",
       "      <td>0.953</td>\n",
       "      <td>5.15</td>\n",
       "      <td>A-</td>\n",
       "      <td>3.85</td>\n",
       "      <td>A-</td>\n",
       "      <td>3.88</td>\n",
       "    </tr>\n",
       "    <tr>\n",
       "      <th>59367</th>\n",
       "      <td>Gladstein, Jill M</td>\n",
       "      <td>SYN 1</td>\n",
       "      <td>Perspectives/Changing Planet (0)</td>\n",
       "      <td>Lower Div</td>\n",
       "      <td>WI</td>\n",
       "      <td>21</td>\n",
       "      <td>318</td>\n",
       "      <td>181</td>\n",
       "      <td>0.891</td>\n",
       "      <td>0.913</td>\n",
       "      <td>4.06</td>\n",
       "      <td>A-</td>\n",
       "      <td>3.91</td>\n",
       "      <td>A-</td>\n",
       "      <td>3.88</td>\n",
       "    </tr>\n",
       "  </tbody>\n",
       "</table>\n",
       "<p>59368 rows × 15 columns</p>\n",
       "</div>"
      ],
      "text/plain": [
       "              Instructor Course Name                         Course Desc  \\\n",
       "0        Kalleres, Dayna      RELI 1        Introduction to Religion (A)   \n",
       "1          Rahimi, Babak    RELI 149                Islam in America (A)   \n",
       "2          Rahimi, Babak    RELI 101  Tools&Methods/Studyof Religion (A)   \n",
       "3          Rahimi, Babak    RELI 188      Special Topics in Religion (A)   \n",
       "4        Kalleres, Dayna      RELI 1        Introduction to Religion (A)   \n",
       "...                  ...         ...                                 ...   \n",
       "59363  Gladstein, Jill M       SYN 1    Perspectives/Changing Planet (0)   \n",
       "59364  Gladstein, Jill M       SYN 2    Explorations/Changing Planet (0)   \n",
       "59365  Gladstein, Jill M       SYN 2    Explorations/Changing Planet (0)   \n",
       "59366  Gladstein, Jill M       SYN 1    Perspectives/Changing Planet (0)   \n",
       "59367  Gladstein, Jill M       SYN 1    Perspectives/Changing Planet (0)   \n",
       "\n",
       "      Course Type Term Type  Term Year  Enroll  Evals Made  Rcmnd Class  \\\n",
       "0       Lower Div        FA         22      37          11        0.909   \n",
       "1       Lower Div        S1         22      40           5        1.000   \n",
       "2       Lower Div        WI         22      39          10        0.900   \n",
       "3       Lower Div        WI         22      34          11        0.800   \n",
       "4       Lower Div        FA         21      37          18        0.813   \n",
       "...           ...       ...        ...     ...         ...          ...   \n",
       "59363   Lower Div        WI         22     404         243        0.909   \n",
       "59364   Lower Div        WI         22     191          93        0.770   \n",
       "59365   Lower Div        FA         21     319         135        0.680   \n",
       "59366   Lower Div        SP         21     235         107        0.906   \n",
       "59367   Lower Div        WI         21     318         181        0.891   \n",
       "\n",
       "       Rcmnd Instructor  Study Hrs/wk Avg Letter Expected  Avg GPA Expected  \\\n",
       "0                 1.000          2.50                   B              3.20   \n",
       "1                 1.000          3.70                  A-              3.80   \n",
       "2                 0.900          3.61                  B+              3.67   \n",
       "3                 0.900          3.90                  A-              3.90   \n",
       "4                 0.750          2.50                  A-              3.85   \n",
       "...                 ...           ...                 ...               ...   \n",
       "59363             0.934          3.95                  A-              3.94   \n",
       "59364             0.885          4.18                  A-              3.79   \n",
       "59365             0.744          3.89                  A-              3.93   \n",
       "59366             0.953          5.15                  A-              3.85   \n",
       "59367             0.913          4.06                  A-              3.91   \n",
       "\n",
       "      Avg Letter Received  Avg GPA Received  \n",
       "0                       A              4.00  \n",
       "1                      A-              3.98  \n",
       "2                      A-              3.73  \n",
       "3                      A-              3.81  \n",
       "4                      A-              3.74  \n",
       "...                   ...               ...  \n",
       "59363                  A-              3.90  \n",
       "59364                  A-              3.89  \n",
       "59365                  A-              3.88  \n",
       "59366                  A-              3.88  \n",
       "59367                  A-              3.88  \n",
       "\n",
       "[59368 rows x 15 columns]"
      ]
     },
     "execution_count": 2,
     "metadata": {},
     "output_type": "execute_result"
    }
   ],
   "source": [
    "Capes = pd.read_csv('CAPES_tidy.csv')\n",
    "Capes = Capes.drop(columns=Capes.columns[0])\n",
    "Capes"
   ]
  },
  {
   "cell_type": "markdown",
   "id": "d98b9bcb",
   "metadata": {},
   "source": [
    "## Part 1: Data Filtering"
   ]
  },
  {
   "cell_type": "markdown",
   "id": "70705024",
   "metadata": {},
   "source": [
    "Each of the UCSD undergraduate colleges offer a unique writing sequence. Here, we show the writing GEs for First Year students, ignoring the alternative sequence(s) for Transfer students.\n",
    "\n",
    "| College Name | Writing Requirement |\n",
    "| ------------ | ------------------- |\n",
    "| Revelle | HUM 1, HUM 2, HUM 3/3GS, HUM 4/4GS, HUM 5 |\n",
    "| Muir | MCWP 40, MCWP 50 |\n",
    "| Marshall | DOC 1, DOC 2, DOC 3 |\n",
    "| Warren | WCWP 10A, WCWP 10B |\n",
    "| Roosevelt | MMW 11, MMW 12, MMW 13, MMW 14, MMW 15 |\n",
    "| Sixth | CAT 1, CAT 2, CAT 3, CAT 125/125R |\n",
    "| Seventh | SYN 1, SYN 2, SYN 3 |\n",
    "| Eighth | N/A |\n",
    "\n",
    "We also ignore that some colleges allow students to take additional writing classes to fulfill General Education requirements. We will focus only on each college's unique, required writing sequence."
   ]
  },
  {
   "cell_type": "markdown",
   "id": "a5b047d9",
   "metadata": {},
   "source": [
    "When we generate DataFrames for all the college's writing programs, we run into all sorts of problems:"
   ]
  },
  {
   "cell_type": "code",
   "execution_count": 3,
   "id": "9bd667ba",
   "metadata": {},
   "outputs": [
    {
     "data": {
      "text/plain": [
       "array(['HUM 3', 'HUM 4', 'HUM 5', 'HUM 3GS', 'HUM 4GS', 'HUM 2', 'HUM 1'],\n",
       "      dtype=object)"
      ]
     },
     "execution_count": 3,
     "metadata": {},
     "output_type": "execute_result"
    }
   ],
   "source": [
    "# NOTE: Revelle's HUM 119 is deprecated, so we remove it.\n",
    "Revelle_writ = Capes[Capes.get('Course Name').str.contains('HUM')]\n",
    "Revelle_writ = Revelle_writ[-Revelle_writ.get('Course Name').str.contains('HUM 119')]\n",
    "Revelle_writ.get('Course Name').unique()"
   ]
  },
  {
   "cell_type": "code",
   "execution_count": 4,
   "id": "82cb0061",
   "metadata": {},
   "outputs": [
    {
     "data": {
      "text/plain": [
       "array([], dtype=object)"
      ]
     },
     "execution_count": 4,
     "metadata": {},
     "output_type": "execute_result"
    }
   ],
   "source": [
    "# NOTE: Muir's writing sequence is NOT on CAPES.\n",
    "Muir_writ = Capes[Capes.get('Course Name').str.contains('MCWP')]\n",
    "Muir_writ.get('Course Name').unique()"
   ]
  },
  {
   "cell_type": "code",
   "execution_count": 5,
   "id": "ae23989f",
   "metadata": {},
   "outputs": [
    {
     "data": {
      "text/plain": [
       "array(['DOC 1', 'DOC 3', 'DOC 2'], dtype=object)"
      ]
     },
     "execution_count": 5,
     "metadata": {},
     "output_type": "execute_result"
    }
   ],
   "source": [
    "# NOTE: DOC 100/100D are DEI for all colleges, not GE, so we remove them.\n",
    "Marshall_writ = Capes[Capes.get('Course Name').str.contains('DOC')]\n",
    "Marshall_writ = Marshall_writ[-Marshall_writ.get('Course Name').str.contains('DOC 100')]\n",
    "Marshall_writ.get('Course Name').unique()"
   ]
  },
  {
   "cell_type": "code",
   "execution_count": 6,
   "id": "f64d7be0",
   "metadata": {},
   "outputs": [
    {
     "data": {
      "text/plain": [
       "array(['WCWP 10A', 'WCWP 10B'], dtype=object)"
      ]
     },
     "execution_count": 6,
     "metadata": {},
     "output_type": "execute_result"
    }
   ],
   "source": [
    "# NOTE: WCWP 100 is for transfer, and WCWP is for all colleges, so we remove them.\n",
    "Warren_writ = Capes[Capes.get('Course Name').str.contains('WCWP')]\n",
    "Warren_writ = Warren_writ[-Warren_writ.get('Course Name').str.contains('WCWP 100')]\n",
    "Warren_writ = Warren_writ[-Warren_writ.get('Course Name').str.contains('WCWP 160')]\n",
    "Warren_writ.get('Course Name').unique()"
   ]
  },
  {
   "cell_type": "code",
   "execution_count": 7,
   "id": "12a3d154",
   "metadata": {},
   "outputs": [
    {
     "data": {
      "text/plain": [
       "array(['MMW 11', 'MMW 14', 'MMW 12', 'MMW 13', 'MMW 15'], dtype=object)"
      ]
     },
     "execution_count": 7,
     "metadata": {},
     "output_type": "execute_result"
    }
   ],
   "source": [
    "# NOTE: MMW 1-6 is the deprecated sequence during 1988-2010, so we remove them.\n",
    "# NOTE: MMW 121-122 is the transfer student sequence, so we remove them.\n",
    "Roosevelt_writ = Capes[Capes.get('Course Name').str.contains('MMW')]\n",
    "Roosevelt_writ = Roosevelt_writ[\n",
    "    (Roosevelt_writ.get('Course Name') == 'MMW 11') | \n",
    "    (Roosevelt_writ.get('Course Name') == 'MMW 12') | \n",
    "    (Roosevelt_writ.get('Course Name') == 'MMW 13') | \n",
    "    (Roosevelt_writ.get('Course Name') == 'MMW 14') | \n",
    "    (Roosevelt_writ.get('Course Name') == 'MMW 15')\n",
    "]\n",
    "Roosevelt_writ.get('Course Name').unique()"
   ]
  },
  {
   "cell_type": "code",
   "execution_count": 8,
   "id": "a58dd6c5",
   "metadata": {},
   "outputs": [
    {
     "data": {
      "text/plain": [
       "array(['CAT 1', 'CAT 125R', 'CAT 3', 'CAT 125GS', 'CAT 2', 'CAT 125'],\n",
       "      dtype=object)"
      ]
     },
     "execution_count": 8,
     "metadata": {},
     "output_type": "execute_result"
    }
   ],
   "source": [
    "# NOTE: CAT 75, 87, 124, 192 are seminars, so we remove them.\n",
    "Sixth_writ = Capes[Capes.get('Course Name').str.contains('CAT')]\n",
    "Sixth_writ = Sixth_writ[-(\n",
    "    (Sixth_writ.get('Course Name') == 'CAT 87') |\n",
    "    (Sixth_writ.get('Course Name') == 'CAT 75') |\n",
    "    (Sixth_writ.get('Course Name').str.contains('CAT 124')) |\n",
    "    (Sixth_writ.get('Course Name') == 'CAT 192')\n",
    ")]\n",
    "Sixth_writ.get('Course Name').unique()"
   ]
  },
  {
   "cell_type": "code",
   "execution_count": 9,
   "id": "2a486ac0",
   "metadata": {},
   "outputs": [
    {
     "data": {
      "text/plain": [
       "array(['SYN 100', 'SYN 2', 'SYN 1'], dtype=object)"
      ]
     },
     "execution_count": 9,
     "metadata": {},
     "output_type": "execute_result"
    }
   ],
   "source": [
    "# NOTE: Due to Seventh's young age there are very few CAPE entries here.\n",
    "Seventh_writ = Capes[Capes.get('Course Name').str.contains('SYN')]\n",
    "Seventh_writ.get('Course Name').unique()"
   ]
  },
  {
   "cell_type": "markdown",
   "id": "b239cd76",
   "metadata": {},
   "source": [
    "### Part 1 Conclusions\n",
    "Due to the complexity and difference between one college's writing sequence with the other, clearly it will be difficult, if not impossible, to compare these wrting sequences with each other. "
   ]
  },
  {
   "cell_type": "markdown",
   "id": "1d0c3064",
   "metadata": {},
   "source": [
    "## Part 2: Per College Analysis"
   ]
  },
  {
   "cell_type": "markdown",
   "id": "565392f8",
   "metadata": {},
   "source": [
    "However, we can still analyse each writing sequence as a standalone DataFrame. Here, we will create generic functions to create visualizations of any college's writing sequence."
   ]
  },
  {
   "cell_type": "code",
   "execution_count": null,
   "id": "3a0a3b87",
   "metadata": {},
   "outputs": [],
   "source": []
  },
  {
   "cell_type": "markdown",
   "id": "5e04266e",
   "metadata": {},
   "source": [
    "## Part 3: Revelle vs. MMW"
   ]
  },
  {
   "cell_type": "markdown",
   "id": "b57c4c85",
   "metadata": {},
   "source": [
    "Amongst students, Revelle and MMW's are consistently ranked as the most difficult writing sequences. As both are the only colleges that require 5 class writing sequences, we can easily see why this is the case.  \n",
    "\n",
    "Here, we will attempt to more specifically compare Revelle and MMW's writing sequences. Note the following potential sources of biases:\n",
    " - Revelle's HUM 1-5 sequence has been running for a long time. ERC however introduced a new MMW 11-15 sequence in 2010, to replace MMW 1-5.\n",
    " - Revelle's sequence focuses on the development of Western Civilization, while ERC's sequence takes a more modern and international perspective.\n",
    " - Revelle's HUM 1-2 are 6 units and HUM 3-5 4 units, while ERC's MMW 11 is 4 units, MMW 12-13 6 units, and MMW 14-15 4 units.\n",
    " - Revelle requires ELWR prior to starting HUM in the Winter. ERC allows all students (regardless of ELWR) to enter MMW 11 in the Fall."
   ]
  },
  {
   "cell_type": "code",
   "execution_count": 11,
   "id": "c77f7e0c",
   "metadata": {},
   "outputs": [
    {
     "name": "stderr",
     "output_type": "stream",
     "text": [
      "/var/folders/bw/l5fz946x5m75fnhws84c85kh0000gn/T/ipykernel_96319/39374805.py:2: FutureWarning: The default value of numeric_only in DataFrameGroupBy.mean is deprecated. In a future version, numeric_only will default to False. Either specify numeric_only or select only columns which should be valid for the function.\n",
      "  Capes_HUM.groupby('Instructor').mean()\\\n"
     ]
    },
    {
     "data": {
      "text/html": [
       "<div>\n",
       "<style scoped>\n",
       "    .dataframe tbody tr th:only-of-type {\n",
       "        vertical-align: middle;\n",
       "    }\n",
       "\n",
       "    .dataframe tbody tr th {\n",
       "        vertical-align: top;\n",
       "    }\n",
       "\n",
       "    .dataframe thead th {\n",
       "        text-align: right;\n",
       "    }\n",
       "</style>\n",
       "<table border=\"1\" class=\"dataframe\">\n",
       "  <thead>\n",
       "    <tr style=\"text-align: right;\">\n",
       "      <th></th>\n",
       "      <th>Term Year</th>\n",
       "      <th>Enroll</th>\n",
       "      <th>Evals Made</th>\n",
       "      <th>Rcmnd Class</th>\n",
       "      <th>Rcmnd Instructor</th>\n",
       "      <th>Study Hrs/wk</th>\n",
       "      <th>Avg GPA Expected</th>\n",
       "      <th>Avg GPA Received</th>\n",
       "    </tr>\n",
       "    <tr>\n",
       "      <th>Instructor</th>\n",
       "      <th></th>\n",
       "      <th></th>\n",
       "      <th></th>\n",
       "      <th></th>\n",
       "      <th></th>\n",
       "      <th></th>\n",
       "      <th></th>\n",
       "      <th></th>\n",
       "    </tr>\n",
       "  </thead>\n",
       "  <tbody>\n",
       "    <tr>\n",
       "      <th>Tronzo, William</th>\n",
       "      <td>20.500000</td>\n",
       "      <td>27.750000</td>\n",
       "      <td>11.000000</td>\n",
       "      <td>1.000000</td>\n",
       "      <td>1.000000</td>\n",
       "      <td>3.612500</td>\n",
       "      <td>3.895000</td>\n",
       "      <td>3.985000</td>\n",
       "    </tr>\n",
       "    <tr>\n",
       "      <th>Jed, Stephanie H</th>\n",
       "      <td>14.000000</td>\n",
       "      <td>22.500000</td>\n",
       "      <td>12.250000</td>\n",
       "      <td>1.000000</td>\n",
       "      <td>1.000000</td>\n",
       "      <td>7.275000</td>\n",
       "      <td>3.980000</td>\n",
       "      <td>3.980000</td>\n",
       "    </tr>\n",
       "    <tr>\n",
       "      <th>Herbst, Matthew</th>\n",
       "      <td>18.000000</td>\n",
       "      <td>28.000000</td>\n",
       "      <td>23.000000</td>\n",
       "      <td>1.000000</td>\n",
       "      <td>1.000000</td>\n",
       "      <td>8.410000</td>\n",
       "      <td>3.680000</td>\n",
       "      <td>3.600000</td>\n",
       "    </tr>\n",
       "    <tr>\n",
       "      <th>Parrish, Michael E.</th>\n",
       "      <td>17.000000</td>\n",
       "      <td>23.000000</td>\n",
       "      <td>9.800000</td>\n",
       "      <td>1.000000</td>\n",
       "      <td>0.866800</td>\n",
       "      <td>8.490000</td>\n",
       "      <td>3.446000</td>\n",
       "      <td>3.462500</td>\n",
       "    </tr>\n",
       "    <tr>\n",
       "      <th>Hall, Matthew Aaron</th>\n",
       "      <td>22.000000</td>\n",
       "      <td>29.000000</td>\n",
       "      <td>14.000000</td>\n",
       "      <td>0.769000</td>\n",
       "      <td>0.769000</td>\n",
       "      <td>10.350000</td>\n",
       "      <td>3.310000</td>\n",
       "      <td>3.370000</td>\n",
       "    </tr>\n",
       "    <tr>\n",
       "      <th>Lundell, Michael J</th>\n",
       "      <td>12.500000</td>\n",
       "      <td>24.000000</td>\n",
       "      <td>15.500000</td>\n",
       "      <td>0.940000</td>\n",
       "      <td>0.980000</td>\n",
       "      <td>7.940000</td>\n",
       "      <td>3.265000</td>\n",
       "      <td>3.310000</td>\n",
       "    </tr>\n",
       "    <tr>\n",
       "      <th>Patterson, Patrick H.</th>\n",
       "      <td>19.538462</td>\n",
       "      <td>104.692308</td>\n",
       "      <td>69.461538</td>\n",
       "      <td>0.754615</td>\n",
       "      <td>0.932308</td>\n",
       "      <td>7.325385</td>\n",
       "      <td>3.180000</td>\n",
       "      <td>3.211667</td>\n",
       "    </tr>\n",
       "    <tr>\n",
       "      <th>Markman, Kristina</th>\n",
       "      <td>20.235294</td>\n",
       "      <td>210.705882</td>\n",
       "      <td>175.176471</td>\n",
       "      <td>0.704353</td>\n",
       "      <td>0.950706</td>\n",
       "      <td>6.980588</td>\n",
       "      <td>3.084118</td>\n",
       "      <td>3.140000</td>\n",
       "    </tr>\n",
       "    <tr>\n",
       "      <th>Lee, John Hoon</th>\n",
       "      <td>13.750000</td>\n",
       "      <td>173.500000</td>\n",
       "      <td>120.125000</td>\n",
       "      <td>0.798083</td>\n",
       "      <td>0.958917</td>\n",
       "      <td>6.380833</td>\n",
       "      <td>3.082500</td>\n",
       "      <td>3.099583</td>\n",
       "    </tr>\n",
       "    <tr>\n",
       "      <th>Watts, Edward J.</th>\n",
       "      <td>18.000000</td>\n",
       "      <td>190.777778</td>\n",
       "      <td>107.666667</td>\n",
       "      <td>0.691222</td>\n",
       "      <td>0.935111</td>\n",
       "      <td>6.153333</td>\n",
       "      <td>3.126667</td>\n",
       "      <td>3.077778</td>\n",
       "    </tr>\n",
       "  </tbody>\n",
       "</table>\n",
       "</div>"
      ],
      "text/plain": [
       "                       Term Year      Enroll  Evals Made  Rcmnd Class  \\\n",
       "Instructor                                                              \n",
       "Tronzo, William        20.500000   27.750000   11.000000     1.000000   \n",
       "Jed, Stephanie H       14.000000   22.500000   12.250000     1.000000   \n",
       "Herbst, Matthew        18.000000   28.000000   23.000000     1.000000   \n",
       "Parrish, Michael E.    17.000000   23.000000    9.800000     1.000000   \n",
       "Hall, Matthew Aaron    22.000000   29.000000   14.000000     0.769000   \n",
       "Lundell, Michael J     12.500000   24.000000   15.500000     0.940000   \n",
       "Patterson, Patrick H.  19.538462  104.692308   69.461538     0.754615   \n",
       "Markman, Kristina      20.235294  210.705882  175.176471     0.704353   \n",
       "Lee, John Hoon         13.750000  173.500000  120.125000     0.798083   \n",
       "Watts, Edward J.       18.000000  190.777778  107.666667     0.691222   \n",
       "\n",
       "                       Rcmnd Instructor  Study Hrs/wk  Avg GPA Expected  \\\n",
       "Instructor                                                                \n",
       "Tronzo, William                1.000000      3.612500          3.895000   \n",
       "Jed, Stephanie H               1.000000      7.275000          3.980000   \n",
       "Herbst, Matthew                1.000000      8.410000          3.680000   \n",
       "Parrish, Michael E.            0.866800      8.490000          3.446000   \n",
       "Hall, Matthew Aaron            0.769000     10.350000          3.310000   \n",
       "Lundell, Michael J             0.980000      7.940000          3.265000   \n",
       "Patterson, Patrick H.          0.932308      7.325385          3.180000   \n",
       "Markman, Kristina              0.950706      6.980588          3.084118   \n",
       "Lee, John Hoon                 0.958917      6.380833          3.082500   \n",
       "Watts, Edward J.               0.935111      6.153333          3.126667   \n",
       "\n",
       "                       Avg GPA Received  \n",
       "Instructor                               \n",
       "Tronzo, William                3.985000  \n",
       "Jed, Stephanie H               3.980000  \n",
       "Herbst, Matthew                3.600000  \n",
       "Parrish, Michael E.            3.462500  \n",
       "Hall, Matthew Aaron            3.370000  \n",
       "Lundell, Michael J             3.310000  \n",
       "Patterson, Patrick H.          3.211667  \n",
       "Markman, Kristina              3.140000  \n",
       "Lee, John Hoon                 3.099583  \n",
       "Watts, Edward J.               3.077778  "
      ]
     },
     "execution_count": 11,
     "metadata": {},
     "output_type": "execute_result"
    }
   ],
   "source": [
    "Capes_HUM = Capes[Capes.get('Course Name').str.contains('HUM')]\n",
    "Capes_HUM.groupby('Instructor').mean()\\\n",
    "    .sort_values(by='Avg GPA Received',ascending=False)\\\n",
    "    .head(10)"
   ]
  },
  {
   "cell_type": "code",
   "execution_count": 12,
   "id": "d6b23966",
   "metadata": {},
   "outputs": [
    {
     "name": "stderr",
     "output_type": "stream",
     "text": [
      "/var/folders/bw/l5fz946x5m75fnhws84c85kh0000gn/T/ipykernel_96319/449724091.py:1: FutureWarning: The default value of numeric_only in DataFrameGroupBy.mean is deprecated. In a future version, numeric_only will default to False. Either specify numeric_only or select only columns which should be valid for the function.\n",
      "  Capes_HUM.groupby('Course Name').mean().drop(['HUM 119','HUM 3GS','HUM 4GS'])\n"
     ]
    },
    {
     "data": {
      "text/html": [
       "<div>\n",
       "<style scoped>\n",
       "    .dataframe tbody tr th:only-of-type {\n",
       "        vertical-align: middle;\n",
       "    }\n",
       "\n",
       "    .dataframe tbody tr th {\n",
       "        vertical-align: top;\n",
       "    }\n",
       "\n",
       "    .dataframe thead th {\n",
       "        text-align: right;\n",
       "    }\n",
       "</style>\n",
       "<table border=\"1\" class=\"dataframe\">\n",
       "  <thead>\n",
       "    <tr style=\"text-align: right;\">\n",
       "      <th></th>\n",
       "      <th>Term Year</th>\n",
       "      <th>Enroll</th>\n",
       "      <th>Evals Made</th>\n",
       "      <th>Rcmnd Class</th>\n",
       "      <th>Rcmnd Instructor</th>\n",
       "      <th>Study Hrs/wk</th>\n",
       "      <th>Avg GPA Expected</th>\n",
       "      <th>Avg GPA Received</th>\n",
       "    </tr>\n",
       "    <tr>\n",
       "      <th>Course Name</th>\n",
       "      <th></th>\n",
       "      <th></th>\n",
       "      <th></th>\n",
       "      <th></th>\n",
       "      <th></th>\n",
       "      <th></th>\n",
       "      <th></th>\n",
       "      <th></th>\n",
       "    </tr>\n",
       "  </thead>\n",
       "  <tbody>\n",
       "    <tr>\n",
       "      <th>HUM 1</th>\n",
       "      <td>16.062500</td>\n",
       "      <td>200.953125</td>\n",
       "      <td>150.296875</td>\n",
       "      <td>0.703063</td>\n",
       "      <td>0.892375</td>\n",
       "      <td>6.966875</td>\n",
       "      <td>2.983281</td>\n",
       "      <td>2.925625</td>\n",
       "    </tr>\n",
       "    <tr>\n",
       "      <th>HUM 2</th>\n",
       "      <td>15.516667</td>\n",
       "      <td>209.400000</td>\n",
       "      <td>123.066667</td>\n",
       "      <td>0.680067</td>\n",
       "      <td>0.875083</td>\n",
       "      <td>6.490167</td>\n",
       "      <td>3.043667</td>\n",
       "      <td>2.953000</td>\n",
       "    </tr>\n",
       "    <tr>\n",
       "      <th>HUM 3</th>\n",
       "      <td>15.518519</td>\n",
       "      <td>127.506173</td>\n",
       "      <td>90.432099</td>\n",
       "      <td>0.759259</td>\n",
       "      <td>0.934901</td>\n",
       "      <td>6.691481</td>\n",
       "      <td>3.087160</td>\n",
       "      <td>3.006667</td>\n",
       "    </tr>\n",
       "    <tr>\n",
       "      <th>HUM 4</th>\n",
       "      <td>16.028571</td>\n",
       "      <td>101.614286</td>\n",
       "      <td>60.928571</td>\n",
       "      <td>0.768971</td>\n",
       "      <td>0.918329</td>\n",
       "      <td>6.572857</td>\n",
       "      <td>3.033857</td>\n",
       "      <td>2.911385</td>\n",
       "    </tr>\n",
       "    <tr>\n",
       "      <th>HUM 5</th>\n",
       "      <td>15.808219</td>\n",
       "      <td>110.027397</td>\n",
       "      <td>64.726027</td>\n",
       "      <td>0.799466</td>\n",
       "      <td>0.937575</td>\n",
       "      <td>6.547397</td>\n",
       "      <td>3.067671</td>\n",
       "      <td>2.961385</td>\n",
       "    </tr>\n",
       "  </tbody>\n",
       "</table>\n",
       "</div>"
      ],
      "text/plain": [
       "             Term Year      Enroll  Evals Made  Rcmnd Class  Rcmnd Instructor  \\\n",
       "Course Name                                                                     \n",
       "HUM 1        16.062500  200.953125  150.296875     0.703063          0.892375   \n",
       "HUM 2        15.516667  209.400000  123.066667     0.680067          0.875083   \n",
       "HUM 3        15.518519  127.506173   90.432099     0.759259          0.934901   \n",
       "HUM 4        16.028571  101.614286   60.928571     0.768971          0.918329   \n",
       "HUM 5        15.808219  110.027397   64.726027     0.799466          0.937575   \n",
       "\n",
       "             Study Hrs/wk  Avg GPA Expected  Avg GPA Received  \n",
       "Course Name                                                    \n",
       "HUM 1            6.966875          2.983281          2.925625  \n",
       "HUM 2            6.490167          3.043667          2.953000  \n",
       "HUM 3            6.691481          3.087160          3.006667  \n",
       "HUM 4            6.572857          3.033857          2.911385  \n",
       "HUM 5            6.547397          3.067671          2.961385  "
      ]
     },
     "execution_count": 12,
     "metadata": {},
     "output_type": "execute_result"
    }
   ],
   "source": [
    "Capes_HUM.groupby('Course Name').mean().drop(['HUM 119','HUM 3GS','HUM 4GS'])"
   ]
  },
  {
   "cell_type": "code",
   "execution_count": 13,
   "id": "6685c579",
   "metadata": {},
   "outputs": [
    {
     "name": "stderr",
     "output_type": "stream",
     "text": [
      "/var/folders/bw/l5fz946x5m75fnhws84c85kh0000gn/T/ipykernel_96319/926151706.py:1: FutureWarning: The default value of numeric_only in DataFrameGroupBy.mean is deprecated. In a future version, numeric_only will default to False. Either specify numeric_only or select only columns which should be valid for the function.\n",
      "  Capes_HUM.groupby('Term Year').mean().get('Enroll').plot(kind='line')\n"
     ]
    },
    {
     "data": {
      "text/plain": [
       "<AxesSubplot: xlabel='Term Year'>"
      ]
     },
     "execution_count": 13,
     "metadata": {},
     "output_type": "execute_result"
    },
    {
     "data": {
      "image/png": "[encoded data removed]",
      "text/plain": [
       "<Figure size 640x480 with 1 Axes>"
      ]
     },
     "metadata": {},
     "output_type": "display_data"
    }
   ],
   "source": [
    "Capes_HUM.groupby('Term Year').mean().get('Enroll').plot(kind='line')"
   ]
  },
  {
   "cell_type": "code",
   "execution_count": 14,
   "id": "39ad17be",
   "metadata": {},
   "outputs": [
    {
     "name": "stderr",
     "output_type": "stream",
     "text": [
      "/var/folders/bw/l5fz946x5m75fnhws84c85kh0000gn/T/ipykernel_96319/1057058900.py:1: FutureWarning: The default value of numeric_only in DataFrameGroupBy.mean is deprecated. In a future version, numeric_only will default to False. Either specify numeric_only or select only columns which should be valid for the function.\n",
      "  Capes_HUM2 = Capes[Capes.get('Course Name').str.contains('HUM 2')].groupby('Instructor').mean()\\\n"
     ]
    },
    {
     "data": {
      "image/png": "[encoded data removed]",
      "text/plain": [
       "<Figure size 640x480 with 2 Axes>"
      ]
     },
     "metadata": {},
     "output_type": "display_data"
    }
   ],
   "source": [
    "Capes_HUM2 = Capes[Capes.get('Course Name').str.contains('HUM 2')].groupby('Instructor').mean()\\\n",
    "    .reset_index().sort_values(by='Avg GPA Received')\n",
    "\n",
    "fig = plt.figure()\n",
    "ax1 = fig.add_subplot()\n",
    "ax2 = ax1.twiny()\n",
    "\n",
    "Capes_HUM2.plot(\n",
    "    kind = 'barh',\n",
    "    x = 'Instructor',\n",
    "    y = 'Rcmnd Instructor',\n",
    "    color = 'navy',\n",
    "    ax = ax2,\n",
    "    position = 0,\n",
    "    width = 0.2\n",
    ")\n",
    "\n",
    "Capes_HUM2.plot(\n",
    "    kind = 'barh',\n",
    "    x = 'Instructor',\n",
    "    y = ['Avg GPA Expected','Avg GPA Received'],\n",
    "    ax = ax1,\n",
    "    position = 1.1,\n",
    "    width = 0.4\n",
    ")\n",
    "\n",
    "ax1.set_xlabel('GPA')\n",
    "ax2.set_xlabel('Rcmnd Instructor')\n",
    "plt.title('HUM 2 Professors')\n",
    "\n",
    "ax1.legend(loc='upper right', bbox_to_anchor = (1.4,1))\n",
    "ax2.legend(loc='upper right', bbox_to_anchor = (1.4,0.85))\n",
    "\n",
    "plt.savefig('HUM2Prof',dpi=600, bbox_inches='tight')"
   ]
  },
  {
   "cell_type": "code",
   "execution_count": null,
   "id": "e8873a63",
   "metadata": {},
   "outputs": [],
   "source": []
  }
 ],
 "metadata": {
  "kernelspec": {
   "display_name": "Python 3 (ipykernel)",
   "language": "python",
   "name": "python3"
  },
  "language_info": {
   "codemirror_mode": {
    "name": "ipython",
    "version": 3
   },
   "file_extension": ".py",
   "mimetype": "text/x-python",
   "name": "python",
   "nbconvert_exporter": "python",
   "pygments_lexer": "ipython3",
   "version": "3.11.0"
  }
 },
 "nbformat": 4,
 "nbformat_minor": 5
}
